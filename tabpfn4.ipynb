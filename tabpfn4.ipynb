{
 "cells": [
  {
   "cell_type": "code",
   "execution_count": null,
   "id": "622ea71c",
   "metadata": {},
   "outputs": [],
   "source": [
    "# Import des libraries\n",
    "\n",
    "import pandas as pd\n",
    "from io import StringIO\n",
    "import numpy as np\n",
    "import geopandas as gpd\n",
    "import matplotlib.pyplot as plt\n",
    "import fiona\n",
    "import pyreadr\n",
    "import os\n",
    "import datetime\n",
    "from shapely.geometry import Point\n",
    "import xarray as xr"
   ]
  },
  {
   "cell_type": "code",
   "execution_count": null,
   "id": "e609b70c",
   "metadata": {},
   "outputs": [],
   "source": [
    "# Récupération des données en sortie d'Arbocarto\n",
    "print('Récupération des données en sortie d\\'Arbocarto')\n",
    "\n",
    "list_paths = [\"C:\\\\Users\\\\aurel\\\\Documents\\\\ArbocartoDonnées\\\\2-2A.rda\", \"C:\\\\Users\\\\aurel\\\\Documents\\\\ArbocartoDonnées\\\\2-2B.rda\"]\n",
    "for i in range(1,96):\n",
    "    if i ==20:\n",
    "        continue\n",
    "    if i < 10:\n",
    "        ch = f\"C:\\\\Users\\\\aurel\\\\Documents\\\\ArbocartoDonnées\\\\2-0{i}.rda\"\n",
    "    else:\n",
    "        ch = f\"C:\\\\Users\\\\aurel\\\\Documents\\\\ArbocartoDonnées\\\\2-{i}.rda\"\n",
    "    list_paths.append(ch)\n",
    "\n",
    "list_map = []\n",
    "\n",
    "list_map.extend([pyreadr.read_r(path)[\"trajectory\"].copy() for path in list_paths])\n",
    "\n",
    "print(list_map)\n",
    "\n",
    "# for i in range(len(list_paths)):\n",
    "#    dict = pyreadr.read_r(list_paths[i])\n",
    "#    print(dict.keys())\n",
    "#    list_map.append(dict[\"trajectory\"].copy())\n",
    "#    print(list_map)"
   ]
  },
  {
   "cell_type": "code",
   "execution_count": null,
   "id": "a08061ca",
   "metadata": {},
   "outputs": [],
   "source": [
    "# Fusion des données d'Arbocarto sur le premier jour (Test)\n",
    "\n",
    "pd.set_option('display.max_rows', None)\n",
    "justsee = [df[df['DATE'] == datetime.date(2021,1,1)] for df in list_map]"
   ]
  },
  {
   "cell_type": "code",
   "execution_count": null,
   "id": "e08a1018",
   "metadata": {},
   "outputs": [],
   "source": [
    "mapjustsee = pd.concat(justsee, ignore_index=True)\n",
    "print(mapjustsee.head())"
   ]
  },
  {
   "cell_type": "code",
   "execution_count": null,
   "id": "6ba51f70",
   "metadata": {},
   "outputs": [],
   "source": [
    "# Fusion des données d'Arbocarto au premier mois de l'été\n",
    "\n",
    "start_date = datetime.date(2022,6,21)\n",
    "end_date = datetime.date(2022,7,20)"
   ]
  },
  {
   "cell_type": "code",
   "execution_count": null,
   "id": "843d3639",
   "metadata": {},
   "outputs": [],
   "source": [
    "summermap = [df[(df['DATE'] >= start_date) & (df['DATE'] <= end_date)] for df in list_map]"
   ]
  },
  {
   "cell_type": "code",
   "execution_count": null,
   "id": "b7c4da42",
   "metadata": {
    "vscode": {
     "languageId": "javascript"
    }
   },
   "outputs": [],
   "source": [
    "map = pd.concat(summermap, ignore_index=True)"
   ]
  },
  {
   "cell_type": "code",
   "execution_count": null,
   "id": "1c8c191a",
   "metadata": {
    "vscode": {
     "languageId": "javascript"
    }
   },
   "outputs": [],
   "source": [
    "print(map.head())"
   ]
  },
  {
   "cell_type": "code",
   "execution_count": null,
   "id": "9c885fb9",
   "metadata": {},
   "outputs": [],
   "source": [
    "# Récupération du découpage IRIS-GE\n",
    "print('Récupération du découpage IRIS-GE')\n",
    "\n",
    "import os\n",
    "irisge = r\"C:\\Users\\aurel\\Downloads\\IRIS-GE_3-0__GPKG_LAMB93_FXX_2025-01-01\\IRIS-GE_3-0__GPKG_LAMB93_FXX_2025-01-01\\IRIS-GE\\1_DONNEES_LIVRAISON_2025-06-00081\\IRIS-GE_3-0_GPKG_LAMB93_FXX-ED2025-01-01\\iris.gpkg\"\n",
    "print(os.path.exists(irisge))\n",
    "import fiona\n",
    "layers = fiona.listlayers(irisge)\n",
    "print(\"Layers:\", layers)"
   ]
  },
  {
   "cell_type": "code",
   "execution_count": null,
   "id": "99784062",
   "metadata": {},
   "outputs": [],
   "source": [
    "import geopandas as gpd\n",
    "\n",
    "irisge = r\"C:\\Users\\aurel\\Downloads\\IRIS-GE_3-0__GPKG_LAMB93_FXX_2025-01-01\\IRIS-GE_3-0__GPKG_LAMB93_FXX_2025-01-01\\IRIS-GE\\1_DONNEES_LIVRAISON_2025-06-00081\\IRIS-GE_3-0_GPKG_LAMB93_FXX-ED2025-01-01\\iris.gpkg\"\n",
    "\n",
    "irismap = gpd.read_file(irisge, layer=\"iris\")\n",
    "print(irismap.head())"
   ]
  },
  {
   "cell_type": "code",
   "execution_count": null,
   "id": "9dfe048a",
   "metadata": {},
   "outputs": [],
   "source": [
    "# Correspondance entre les données d'Arbocarto et IRIS-GE\n",
    "\n",
    "# Check for matches with code_insee\n",
    "matches_insee = irismap['code_insee'].isin(map['ID'])\n",
    "print(\"Number of matches with code_insee:\", matches_insee.sum())\n",
    "\n",
    "# Check for matches with code_iris\n",
    "matches_iris = irismap['code_iris'].isin(map['ID'])\n",
    "print(\"Number of matches with code_iris:\", matches_iris.sum())\n",
    "\n",
    "# Optionally, see which values match\n",
    "matching_insee_values = irismap.loc[matches_insee, 'code_insee']\n",
    "matching_iris_values = irismap.loc[matches_iris, 'code_iris']\n",
    "\n",
    "print(\"Matching code_insee values:\", matching_insee_values.tolist())\n",
    "print(\"Matching code_iris values:\", matching_iris_values.tolist())"
   ]
  },
  {
   "cell_type": "code",
   "execution_count": null,
   "id": "bfe38aa4",
   "metadata": {},
   "outputs": [],
   "source": [
    "print(len(map[map['DATE'] == datetime.date(2022, 6, 21)]))\n",
    "print(len(irismap))"
   ]
  },
  {
   "cell_type": "code",
   "execution_count": null,
   "id": "4e1c053d",
   "metadata": {},
   "outputs": [],
   "source": [
    "# irisgdf = gpd.GeoDataFrame(irismap, geometry=gpd.points_from_xy(irismap['geometry'].x, irismap['geometry'].y))\n",
    "irismap.plot(column='code_iris', cmap='viridis', legend=True)\n",
    "plt.show()"
   ]
  },
  {
   "cell_type": "code",
   "execution_count": null,
   "id": "d2cc13d6",
   "metadata": {},
   "outputs": [],
   "source": [
    "irismap_sample = irismap.sample(500, random_state=1)\n",
    "irismap_sample.plot(column='code_iris', cmap='viridis', legend=True)\n",
    "plt.show()"
   ]
  },
  {
   "cell_type": "code",
   "execution_count": null,
   "id": "476cf36d",
   "metadata": {},
   "outputs": [],
   "source": [
    "# Représentation des moustiques adultes le premier jour de l'été\n",
    "\n",
    "# 1. Filter your map DataFrame for the 21st of June\n",
    "date_to_plot = datetime.date(2022, 6, 21)\n",
    "map_june21 = map[map['DATE'] == date_to_plot]\n",
    "\n",
    "# 2. Merge with irismap to get the geometry\n",
    "map_plot = pd.merge(map_june21, irismap, left_on='ID', right_on='code_iris', how='left')\n",
    "\n",
    "# 3. Convert to GeoDataFrame (ensure geometry column is present)\n",
    "map_plot = gpd.GeoDataFrame(map_plot, geometry='geometry', crs=irismap.crs)\n",
    "\n",
    "# 4. Plot the Ahm column\n",
    "map_plot.plot(column='Ahm', figsize=(10, 6), legend=True, cmap='viridis')\n",
    "plt.title(f\"Ahm on {date_to_plot}\")\n",
    "plt.axis('off')\n",
    "plt.show()"
   ]
  },
  {
   "cell_type": "code",
   "execution_count": null,
   "id": "67fcba2e",
   "metadata": {},
   "outputs": [],
   "source": [
    "# Pourquoi c'est vide par endroits ?\n",
    "\n",
    "print(map_plot[['ID', 'code_iris', 'Ahm']].isna().sum())\n",
    "print(map_plot[map_plot['Ahm'].isna()][['ID', 'code_iris']])"
   ]
  },
  {
   "cell_type": "code",
   "execution_count": null,
   "id": "4fe81434",
   "metadata": {},
   "outputs": [],
   "source": [
    "print(map['ID'].dtype, irismap['code_iris'].dtype)\n",
    "print(map['ID'].head(), irismap['code_iris'].head())"
   ]
  },
  {
   "cell_type": "code",
   "execution_count": null,
   "id": "cbab69da",
   "metadata": {},
   "outputs": [],
   "source": [
    "corine = r\"C:\\Users\\aurel\\Downloads\\corine\\CLC_PNE_RG\\CORINE_LAND_COVER_FRANCE_METROPOLITAINE_EPSG2154.gpkg\"\n",
    "layers = fiona.listlayers(corine)\n",
    "print(\"Layers:\", layers)"
   ]
  },
  {
   "cell_type": "code",
   "execution_count": null,
   "id": "9fd40de7",
   "metadata": {},
   "outputs": [],
   "source": [
    "corinemap = gpd.read_file(corine, layer=\"CORINE_LAND_COVER_FRANCE_METROPOLITAINE_EPSG2154\")\n",
    "print(corinemap.head())"
   ]
  },
  {
   "cell_type": "code",
   "execution_count": null,
   "id": "20d219f6",
   "metadata": {},
   "outputs": [],
   "source": [
    "# Dissoudre les polygones IRIS par code_iris (ou un autre identifiant pertinent)\n",
    "mapplotdiss = map_plot.dissolve(by='code_iris')\n",
    "\n",
    "# Dissoudre les polygones CORINE par code_18 (ou un autre identifiant pertinent)\n",
    "corinemapdiss = corinemap.dissolve(by='code_18')\n",
    "\n",
    "mapplotdiss['geometry'] = mapplotdiss.geometry.simplify(20)      # 20 mètres de tolérance (à ajuster)\n",
    "corinemapdiss['geometry'] = corinemapdiss.geometry.simplify(20)\n",
    "\n",
    "# Faire l'overlay sur les couches dissoutes\n",
    "maplandcover = gpd.overlay(mapplotdiss, corinemapdiss, how=\"identity\")"
   ]
  },
  {
   "cell_type": "code",
   "execution_count": null,
   "id": "b2524f27",
   "metadata": {},
   "outputs": [],
   "source": [
    "# Ensure both GeoDataFrames use the same CRS\n",
    "corinemap = corinemap.to_crs(map_plot.crs)\n",
    "\n",
    "maplandcover = gpd.overlay(map_plot, corinemap, how=\"intersection\")\n",
    "\n",
    "pd.set_option('display.max_columns', None)\n",
    "print(maplandcover.head())"
   ]
  },
  {
   "cell_type": "code",
   "execution_count": null,
   "id": "751b27ee",
   "metadata": {},
   "outputs": [],
   "source": [
    "maplandcover = gpd.GeoDataFrame(maplandcover, geometry='geometry', crs=irismap.crs)\n",
    "\n",
    "import matplotlib.pyplot as plt\n",
    "import numpy as np\n",
    "\n",
    "# Convert code_18 to numeric if not already\n",
    "maplandcover['code_18_num'] = pd.to_numeric(maplandcover['code_18'], errors='coerce')\n",
    "\n",
    "# Create quantile bins (e.g., 10 quantiles)\n",
    "maplandcover['code_18_quantile'] = pd.qcut(maplandcover['code_18_num'], q=10, labels=False, duplicates='drop')\n",
    "\n",
    "# Plot with a continuous colormap and colorbar\n",
    "fig, ax = plt.subplots(figsize=(10, 6))\n",
    "maplandcover.plot(\n",
    "    column='code_18_quantile',\n",
    "    ax=ax,\n",
    "    cmap='viridis',\n",
    "    legend=True,\n",
    "    legend_kwds={'label': \"Land cover quantile\", 'shrink': 0.7}\n",
    ")\n",
    "plt.title(\"Land cover quantiles (continuous legend)\")\n",
    "plt.axis('off')\n",
    "plt.show()\n",
    "\n",
    "# maplandcover.plot(column='code_18', figsize=(10, 6), legend=True, cmap='Greens')\n",
    "# plt.title(f\"Land cover on {date_to_plot}\")\n",
    "# plt.axis('off')\n",
    "# plt.show()"
   ]
  },
  {
   "cell_type": "code",
   "execution_count": null,
   "id": "21aa1a38",
   "metadata": {},
   "outputs": [],
   "source": [
    "print(type(maplandcover))\n",
    "maplandcover = gpd.GeoDataFrame(maplandcover, geometry='geometry', crs=irismap.crs)"
   ]
  },
  {
   "cell_type": "code",
   "execution_count": null,
   "id": "dbe5899d",
   "metadata": {},
   "outputs": [],
   "source": [
    "# Exemple : ne prendre que les polygones IRIS et CORINE d'un département\n",
    "irismap_subset = irismap[irismap['code_insee'].str.startswith('75')]  # Paris\n",
    "corinemap_subset = corinemap[corinemap.intersects(irismap_subset.unary_union)]\n",
    "\n",
    "# Dissoudre\n",
    "iris_diss = irismap_subset.dissolve(by='code_iris')\n",
    "corine_diss = corinemap_subset.dissolve(by='code_18')\n",
    "\n",
    "# Overlay\n",
    "result = gpd.overlay(iris_diss, corine_diss, how=\"identity\")\n",
    "print(result.head())"
   ]
  },
  {
   "cell_type": "code",
   "execution_count": null,
   "id": "96f33ebe",
   "metadata": {},
   "outputs": [],
   "source": [
    "result.plot(column='code_18', figsize=(10, 6), legend=True, cmap='viridis')\n",
    "plt.show()"
   ]
  },
  {
   "cell_type": "code",
   "execution_count": null,
   "id": "d1d4c8f4",
   "metadata": {},
   "outputs": [],
   "source": [
    "comparison = gpd.overlay(iris_diss, corine_diss, how=\"intersection\")\n",
    "comparison.plot(column='code_18', figsize=(10, 6), legend=True, cmap='viridis')\n",
    "plt.show()"
   ]
  },
  {
   "cell_type": "code",
   "execution_count": null,
   "id": "950254a3",
   "metadata": {},
   "outputs": [],
   "source": [
    "maplandcover = gpd.overlay(map_plot, corinemap, how=\"identity\")"
   ]
  },
  {
   "cell_type": "code",
   "execution_count": null,
   "id": "4651e37b",
   "metadata": {},
   "outputs": [],
   "source": [
    "print(maplandcover.head())"
   ]
  },
  {
   "cell_type": "code",
   "execution_count": null,
   "id": "03dbebdc",
   "metadata": {},
   "outputs": [],
   "source": [
    "maplandcover.plot(column='code_18', figsize=(10, 6), legend=True, cmap='viridis')\n",
    "plt.show()"
   ]
  },
  {
   "cell_type": "code",
   "execution_count": null,
   "id": "8324af93",
   "metadata": {},
   "outputs": [],
   "source": [
    "# Vérifie que le CRS est en mètres (EPSG:2154 pour la France)\n",
    "if corinemap.crs.to_epsg() != 2154:\n",
    "    corinemap = corinemap.to_crs(epsg=2154)\n",
    "\n",
    "# Surface médiane des polygones (en m²)\n",
    "areas = irismap.geometry.area\n",
    "print(\"Surface médiane des polygones CORINE (m²):\", np.median(areas))\n",
    "print(\"Surface minimale des polygones CORINE (m²):\", areas.min())\n",
    "\n",
    "# Espacement médian entre centroïdes (en mètres)\n",
    "from scipy.spatial import cKDTree\n",
    "centroids = np.array([(geom.centroid.x, geom.centroid.y) for geom in corinemap.geometry])\n",
    "tree = cKDTree(centroids)\n",
    "distances, _ = tree.query(centroids, k=2)\n",
    "min_distances = distances[:, 1]\n",
    "print(\"Espacement médian entre centroïdes CORINE (m):\", np.median(min_distances))"
   ]
  },
  {
   "cell_type": "code",
   "execution_count": null,
   "id": "443f6c82",
   "metadata": {},
   "outputs": [],
   "source": [
    "print(areas.max())"
   ]
  },
  {
   "cell_type": "markdown",
   "id": "513cddb2",
   "metadata": {},
   "source": [
    "Ici commence l'intégration des données météo"
   ]
  },
  {
   "cell_type": "code",
   "execution_count": null,
   "id": "78208524",
   "metadata": {},
   "outputs": [],
   "source": [
    "# import cdsapi\n",
    "\n",
    "# dataset = \"insitu-gridded-observations-europe\"\n",
    "# request = {\n",
    "#     \"product_type\": \"ensemble_spread\",\n",
    "#     \"variable\": [\n",
    "#         \"mean_temperature\",\n",
    "#         \"minimum_temperature\",\n",
    "#         \"maximum_temperature\",\n",
    "#         \"precipitation_amount\",\n",
    "#         \"sea_level_pressure\",\n",
    "#         \"surface_shortwave_downwelling_radiation\",\n",
    "#         \"relative_humidity\"\n",
    "#     ],\n",
    "#     \"grid_resolution\": \"0_1deg\",\n",
    "#     \"period\": \"2011_2023\",\n",
    "#     \"version\": [\"29_0e\"]\n",
    "# }\n",
    "\n",
    "# client = cdsapi.Client()\n",
    "# client.retrieve(dataset, request).download()\n"
   ]
  },
  {
   "cell_type": "code",
   "execution_count": null,
   "id": "1a5e60b2",
   "metadata": {},
   "outputs": [],
   "source": [
    "nc_dir = r\"C:\\Users\\aurel\\Downloads\\copernicusmeteo1\"\n",
    "\n",
    "# List all .nc files in the directory\n",
    "nc_files = [os.path.join(nc_dir, f) for f in os.listdir(nc_dir) if f.endswith('.nc')]\n",
    "\n",
    "hu = xr.open_dataset(nc_files[0])\n",
    "pp = xr.open_dataset(nc_files[1])\n",
    "qq = xr.open_dataset(nc_files[2])\n",
    "rr = xr.open_dataset(nc_files[3])\n",
    "tg = xr.open_dataset(nc_files[4])\n",
    "tn = xr.open_dataset(nc_files[5])\n",
    "tx = xr.open_dataset(nc_files[6])\n",
    "\n",
    "print(hu, pp, qq, rr, tg, tn, tx)"
   ]
  },
  {
   "cell_type": "code",
   "execution_count": null,
   "id": "b6655882",
   "metadata": {},
   "outputs": [],
   "source": [
    "# Prendre un des fichiers, par exemple 'hu'\n",
    "lats = hu.latitude.values\n",
    "lons = hu.longitude.values\n",
    "\n",
    "# Calculer la résolution (en degrés)\n",
    "lat_res = np.abs(lats[1] - lats[0])\n",
    "lon_res = np.abs(lons[1] - lons[0])\n",
    "print(f\"Résolution latitude : {lat_res}°\")\n",
    "print(f\"Résolution longitude : {lon_res}°\")\n",
    "\n",
    "# Optionnel : convertir en kilomètres (approximation)\n",
    "# 1° latitude ≈ 111 km ; 1° longitude ≈ 111 km * cos(latitude)\n",
    "mean_lat = np.mean(lats)\n",
    "lat_km = lat_res * 111\n",
    "lon_km = lon_res * 111 * np.cos(np.deg2rad(mean_lat))\n",
    "print(f\"Résolution ≈ {lat_km:.1f} km (lat) x {lon_km:.1f} km (lon)\")"
   ]
  },
  {
   "cell_type": "code",
   "execution_count": null,
   "id": "236e7145",
   "metadata": {},
   "outputs": [],
   "source": [
    "# Définir la période et la région d'intérêt\n",
    "date_debut = \"2022-06-21\"\n",
    "date_fin = \"2022-09-20\"\n",
    "lat_min, lat_max = 41.0, 52.0   # exemple : France métropolitaine\n",
    "lon_min, lon_max = -5.0, 10.0\n",
    "\n",
    "# Fonction pour extraire et filtrer une variable\n",
    "def extract_var(ds, varname):\n",
    "    # Sélectionner la période et la région\n",
    "    da = ds[varname].sel(\n",
    "        time=slice(date_debut, date_fin),\n",
    "        latitude=slice(lat_min, lat_max),\n",
    "        longitude=slice(lon_min, lon_max)\n",
    "    )\n",
    "    # Conversion en DataFrame et suppression des NaN\n",
    "    df = da.to_dataframe().reset_index().dropna(subset=[varname])\n",
    "    return df\n",
    "\n",
    "# Extraction pour chaque variable\n",
    "df_hu = extract_var(hu, 'hu')\n",
    "df_pp = extract_var(pp, 'pp')\n",
    "df_qq = extract_var(qq, 'qq')\n",
    "df_rr = extract_var(rr, 'rr')\n",
    "df_tg = extract_var(tg, 'tg')\n",
    "df_tn = extract_var(tn, 'tn')\n",
    "df_tx = extract_var(tx, 'tx')\n",
    "\n",
    "# Fusion sur les colonnes communes (time, latitude, longitude)\n",
    "variables = [df_hu, df_pp, df_qq, df_rr, df_tg, df_tn, df_tx]\n",
    "from functools import reduce\n",
    "cartemeteo = reduce(lambda left, right: pd.merge(left, right, on=['time', 'latitude', 'longitude'], how='outer'), variables)\n",
    "\n",
    "print(cartemeteo.info())\n",
    "print(cartemeteo.head())"
   ]
  },
  {
   "cell_type": "code",
   "execution_count": null,
   "id": "6ad625c6",
   "metadata": {},
   "outputs": [],
   "source": [
    "import geopandas as gpd\n",
    "from shapely.geometry import Point\n",
    "\n",
    "# Création de la colonne geometry\n",
    "cartemeteo['geometry'] = [Point(xy) for xy in zip(cartemeteo['longitude'], cartemeteo['latitude'])]\n",
    "\n",
    "# Conversion en GeoDataFrame (CRS WGS84 par défaut, adapte si besoin)\n",
    "gdf_points = gpd.GeoDataFrame(cartemeteo, geometry='geometry', crs=\"EPSG:4326\")\n",
    "\n",
    "# Exemple d’affichage de l’humidité relative pour une date donnée\n",
    "date_to_plot = pd.Timestamp(\"2022-06-21\")\n",
    "gdf_plot = gdf_points[gdf_points['time'] == date_to_plot]\n",
    "\n",
    "if gdf_plot.empty:\n",
    "    print(\"Aucune donnée pour la date sélectionnée.\")\n",
    "else:\n",
    "    gdf_plot.plot(column='hu', legend=True, cmap='Blues', figsize=(10, 6))\n",
    "    plt.title(\"Points météo - humidité relative (hu)\")\n",
    "    plt.show()"
   ]
  },
  {
   "cell_type": "code",
   "execution_count": null,
   "id": "f28bd0ef",
   "metadata": {},
   "outputs": [],
   "source": [
    "cartemeteo['time'] = pd.to_datetime(cartemeteo['time'])\n",
    "print(cartemeteo['time'])"
   ]
  },
  {
   "cell_type": "code",
   "execution_count": null,
   "id": "78d05bea",
   "metadata": {},
   "outputs": [],
   "source": [
    "gdf_points = gdf_points.to_crs(maplandcover.crs)\n",
    "print(gdf_points.crs == maplandcover.crs)"
   ]
  },
  {
   "cell_type": "code",
   "execution_count": null,
   "id": "825a6346",
   "metadata": {},
   "outputs": [],
   "source": [
    "# Jointure spatiale : chaque point météo reçoit l'index du polygone le contenant\n",
    "points_in_poly = gpd.sjoin(gdf_plot, maplandcover, how='left', predicate='within')\n",
    "print(points_in_poly.head())"
   ]
  },
  {
   "cell_type": "code",
   "execution_count": null,
   "id": "1bb2660e",
   "metadata": {},
   "outputs": [],
   "source": [
    "# Compte du nombre de points météo (par exemple 'hu') par polygone\n",
    "count_points = points_in_poly.groupby('index_right').size()\n",
    "print(count_points)"
   ]
  },
  {
   "cell_type": "code",
   "execution_count": null,
   "id": "159a007b",
   "metadata": {},
   "outputs": [],
   "source": [
    "# Tous les index de polygones\n",
    "all_polygons = set(maplandcover.index)\n",
    "# Ceux qui ont au moins un point\n",
    "polygons_with_points = set(count_points.index)\n",
    "# Ceux qui n'ont aucun point\n",
    "polygons_without_points = all_polygons - polygons_with_points\n",
    "\n",
    "print(f\"Polygones avec au moins un point météo : {len(polygons_with_points)}\")\n",
    "print(f\"Polygones sans aucun point météo : {len(polygons_without_points)}\")"
   ]
  },
  {
   "cell_type": "code",
   "execution_count": null,
   "id": "24ed73dc",
   "metadata": {},
   "outputs": [],
   "source": [
    "print(f\"Polygones avec plus d'un point météo : {(count_points > 1).sum()}\")"
   ]
  },
  {
   "cell_type": "code",
   "execution_count": null,
   "id": "31979da7",
   "metadata": {},
   "outputs": [],
   "source": [
    "import numpy as np\n",
    "from shapely.geometry import Point\n",
    "from scipy.spatial import cKDTree\n",
    "\n",
    "# Récupérer les centroïdes des polygones\n",
    "centroids = np.array([(geom.centroid.x, geom.centroid.y) for geom in maplandcover.geometry])\n",
    "\n",
    "# Construire un arbre de recherche rapide\n",
    "tree = cKDTree(centroids)\n",
    "\n",
    "# Pour chaque centroïde, trouver la distance au centroïde le plus proche (hors lui-même)\n",
    "distances, _ = tree.query(centroids, k=2)  # k=2 pour inclure soi-même et le plus proche\n",
    "min_distances = distances[:, 1]  # On prend la 2e colonne (le plus proche hors soi)\n",
    "\n",
    "# Espacement minimum, maximum, médian\n",
    "print(f\"Espacement minimum entre polygones : {min_distances.min():.2f} unités\")\n",
    "print(f\"Espacement médian entre polygones : {np.median(min_distances):.2f} unités\")\n",
    "print(f\"Espacement maximum entre polygones : {min_distances.max():.2f} unités\")"
   ]
  },
  {
   "cell_type": "code",
   "execution_count": null,
   "id": "9f26e276",
   "metadata": {},
   "outputs": [],
   "source": [
    "# Surface de chaque polygone (en m² si CRS en mètres)\n",
    "areas = maplandcover.geometry.area\n",
    "print(\"Surface médiane des polygones (m²):\", np.median(areas))\n",
    "print(\"Surface minimale des polygones (m²):\", areas.min())"
   ]
  }
 ],
 "metadata": {
  "kernelspec": {
   "display_name": "meteo",
   "language": "python",
   "name": "python3"
  },
  "language_info": {
   "codemirror_mode": {
    "name": "ipython",
    "version": 3
   },
   "file_extension": ".py",
   "mimetype": "text/x-python",
   "name": "python",
   "nbconvert_exporter": "python",
   "pygments_lexer": "ipython3",
   "version": "3.11.13"
  }
 },
 "nbformat": 4,
 "nbformat_minor": 5
}
